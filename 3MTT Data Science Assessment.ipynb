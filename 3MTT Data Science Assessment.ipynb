{
 "cells": [
  {
   "cell_type": "markdown",
   "id": "da71caef",
   "metadata": {},
   "source": [
    "Adekeye Adeoye Daniel\n",
    "adeoyeadekeye@gmail.com\n",
    "08033917604"
   ]
  },
  {
   "cell_type": "markdown",
   "id": "df44ec44",
   "metadata": {},
   "source": [
    "1. what do you understand by Data science\n",
    "2. What is the lifecycle of Data analysis\n",
    "3. what are the tools used in data analysis task"
   ]
  },
  {
   "cell_type": "markdown",
   "id": "eed56b2e",
   "metadata": {},
   "source": [
    "1. Data science is a field that involves collecting data and exploring data to gain insights, make predictions, and solve problems."
   ]
  },
  {
   "cell_type": "markdown",
   "id": "e3e05ada",
   "metadata": {},
   "source": [
    "2. Life cycle of Data Analysis\n",
    "\n",
    "1. Define Objectives\n",
    "  \n",
    "2. Data Collection\n",
    "   \n",
    "3. Data Cleaning and Preprocessing\n",
    "\n",
    "4. Exploratory Data Analysis (EDA)\n",
    "\n",
    "5. Data Transformation and Feature Engineering\n",
    "\n",
    "6. Modeling and Analysis\n",
    "\n",
    "7. Interpretation of Results\n",
    "\n",
    "8. Visualization\n",
    "\n",
    "9. Validation and Iteration\n",
    "\n",
    "10. Deployment\n",
    "   \n"
   ]
  },
  {
   "cell_type": "markdown",
   "id": "7dbfd662",
   "metadata": {},
   "source": [
    "3. - Tableau \n",
    "- Power BI\n",
    "- Matplotlib \n",
    "- Seaborn\n",
    "- Python\n",
    "- R\n",
    "- Excel\n",
    "- Google Sheets\n",
    "- SQL"
   ]
  },
  {
   "cell_type": "markdown",
   "id": "caf10c96",
   "metadata": {},
   "source": [
    "4. Create a table from a dictionary with 3 columns and 10 rows and perform 3 visualization tasks"
   ]
  },
  {
   "cell_type": "code",
   "execution_count": 2,
   "id": "e6276aa2",
   "metadata": {},
   "outputs": [],
   "source": [
    "import pandas as pd"
   ]
  },
  {
   "cell_type": "code",
   "execution_count": 3,
   "id": "743ae9c4",
   "metadata": {},
   "outputs": [],
   "source": [
    "#creating a dictionary"
   ]
  },
  {
   "cell_type": "code",
   "execution_count": 5,
   "id": "9868d0a9",
   "metadata": {},
   "outputs": [],
   "source": [
    "dict = {'Countrycode':['AUS', 'UK', 'CAD', 'NOR', 'FRA', 'RUS', 'THAI', 'MEX', 'UAE', 'JAP'], \n",
    "       'Food':['Beef', 'Meat','Canola', 'Salmon','Wine', 'Wheat','Rice', 'Avocado','Dates','Seafood'],\n",
    "       'Vol(Million Tons)':[12.1, 15.8, 34.3, 22.3, 19.3, 15.1, 21.4, 26.9, 24.2, 77.7]}"
   ]
  },
  {
   "cell_type": "code",
   "execution_count": 8,
   "id": "af0c9303",
   "metadata": {},
   "outputs": [
    {
     "data": {
      "text/html": [
       "<div>\n",
       "<style scoped>\n",
       "    .dataframe tbody tr th:only-of-type {\n",
       "        vertical-align: middle;\n",
       "    }\n",
       "\n",
       "    .dataframe tbody tr th {\n",
       "        vertical-align: top;\n",
       "    }\n",
       "\n",
       "    .dataframe thead th {\n",
       "        text-align: right;\n",
       "    }\n",
       "</style>\n",
       "<table border=\"1\" class=\"dataframe\">\n",
       "  <thead>\n",
       "    <tr style=\"text-align: right;\">\n",
       "      <th></th>\n",
       "      <th>Countrycode</th>\n",
       "      <th>Food</th>\n",
       "      <th>Vol(Million Tons)</th>\n",
       "    </tr>\n",
       "  </thead>\n",
       "  <tbody>\n",
       "    <tr>\n",
       "      <th>0</th>\n",
       "      <td>AUS</td>\n",
       "      <td>Beef</td>\n",
       "      <td>12.1</td>\n",
       "    </tr>\n",
       "    <tr>\n",
       "      <th>1</th>\n",
       "      <td>UK</td>\n",
       "      <td>Meat</td>\n",
       "      <td>15.8</td>\n",
       "    </tr>\n",
       "    <tr>\n",
       "      <th>2</th>\n",
       "      <td>CAD</td>\n",
       "      <td>Canola</td>\n",
       "      <td>34.3</td>\n",
       "    </tr>\n",
       "    <tr>\n",
       "      <th>3</th>\n",
       "      <td>NOR</td>\n",
       "      <td>Salmon</td>\n",
       "      <td>22.3</td>\n",
       "    </tr>\n",
       "    <tr>\n",
       "      <th>4</th>\n",
       "      <td>FRA</td>\n",
       "      <td>Wine</td>\n",
       "      <td>19.3</td>\n",
       "    </tr>\n",
       "    <tr>\n",
       "      <th>5</th>\n",
       "      <td>RUS</td>\n",
       "      <td>Wheat</td>\n",
       "      <td>15.1</td>\n",
       "    </tr>\n",
       "    <tr>\n",
       "      <th>6</th>\n",
       "      <td>THAI</td>\n",
       "      <td>Rice</td>\n",
       "      <td>21.4</td>\n",
       "    </tr>\n",
       "    <tr>\n",
       "      <th>7</th>\n",
       "      <td>MEX</td>\n",
       "      <td>Avocado</td>\n",
       "      <td>26.9</td>\n",
       "    </tr>\n",
       "    <tr>\n",
       "      <th>8</th>\n",
       "      <td>UAE</td>\n",
       "      <td>Dates</td>\n",
       "      <td>24.2</td>\n",
       "    </tr>\n",
       "    <tr>\n",
       "      <th>9</th>\n",
       "      <td>JAP</td>\n",
       "      <td>Seafood</td>\n",
       "      <td>77.7</td>\n",
       "    </tr>\n",
       "  </tbody>\n",
       "</table>\n",
       "</div>"
      ],
      "text/plain": [
       "  Countrycode     Food  Vol(Million Tons)\n",
       "0         AUS     Beef               12.1\n",
       "1          UK     Meat               15.8\n",
       "2         CAD   Canola               34.3\n",
       "3         NOR   Salmon               22.3\n",
       "4         FRA     Wine               19.3\n",
       "5         RUS    Wheat               15.1\n",
       "6        THAI     Rice               21.4\n",
       "7         MEX  Avocado               26.9\n",
       "8         UAE    Dates               24.2\n",
       "9         JAP  Seafood               77.7"
      ]
     },
     "execution_count": 8,
     "metadata": {},
     "output_type": "execute_result"
    }
   ],
   "source": [
    "df=pd.DataFrame(dict)\n",
    "df"
   ]
  },
  {
   "cell_type": "code",
   "execution_count": 15,
   "id": "30187a9a",
   "metadata": {},
   "outputs": [
    {
     "data": {
      "text/html": [
       "<div>\n",
       "<style scoped>\n",
       "    .dataframe tbody tr th:only-of-type {\n",
       "        vertical-align: middle;\n",
       "    }\n",
       "\n",
       "    .dataframe tbody tr th {\n",
       "        vertical-align: top;\n",
       "    }\n",
       "\n",
       "    .dataframe thead th {\n",
       "        text-align: right;\n",
       "    }\n",
       "</style>\n",
       "<table border=\"1\" class=\"dataframe\">\n",
       "  <thead>\n",
       "    <tr style=\"text-align: right;\">\n",
       "      <th></th>\n",
       "      <th>Food</th>\n",
       "      <th>Vol(Million Tons)</th>\n",
       "    </tr>\n",
       "    <tr>\n",
       "      <th>Countrycode</th>\n",
       "      <th></th>\n",
       "      <th></th>\n",
       "    </tr>\n",
       "  </thead>\n",
       "  <tbody>\n",
       "    <tr>\n",
       "      <th>AUS</th>\n",
       "      <td>Beef</td>\n",
       "      <td>12.1</td>\n",
       "    </tr>\n",
       "    <tr>\n",
       "      <th>UK</th>\n",
       "      <td>Meat</td>\n",
       "      <td>15.8</td>\n",
       "    </tr>\n",
       "    <tr>\n",
       "      <th>CAD</th>\n",
       "      <td>Canola</td>\n",
       "      <td>34.3</td>\n",
       "    </tr>\n",
       "    <tr>\n",
       "      <th>NOR</th>\n",
       "      <td>Salmon</td>\n",
       "      <td>22.3</td>\n",
       "    </tr>\n",
       "    <tr>\n",
       "      <th>FRA</th>\n",
       "      <td>Wine</td>\n",
       "      <td>19.3</td>\n",
       "    </tr>\n",
       "    <tr>\n",
       "      <th>RUS</th>\n",
       "      <td>Wheat</td>\n",
       "      <td>15.1</td>\n",
       "    </tr>\n",
       "    <tr>\n",
       "      <th>THAI</th>\n",
       "      <td>Rice</td>\n",
       "      <td>21.4</td>\n",
       "    </tr>\n",
       "    <tr>\n",
       "      <th>MEX</th>\n",
       "      <td>Avocado</td>\n",
       "      <td>26.9</td>\n",
       "    </tr>\n",
       "    <tr>\n",
       "      <th>UAE</th>\n",
       "      <td>Dates</td>\n",
       "      <td>24.2</td>\n",
       "    </tr>\n",
       "    <tr>\n",
       "      <th>JAP</th>\n",
       "      <td>Seafood</td>\n",
       "      <td>77.7</td>\n",
       "    </tr>\n",
       "  </tbody>\n",
       "</table>\n",
       "</div>"
      ],
      "text/plain": [
       "                Food  Vol(Million Tons)\n",
       "Countrycode                            \n",
       "AUS             Beef               12.1\n",
       "UK              Meat               15.8\n",
       "CAD           Canola               34.3\n",
       "NOR           Salmon               22.3\n",
       "FRA             Wine               19.3\n",
       "RUS            Wheat               15.1\n",
       "THAI            Rice               21.4\n",
       "MEX          Avocado               26.9\n",
       "UAE            Dates               24.2\n",
       "JAP          Seafood               77.7"
      ]
     },
     "execution_count": 15,
     "metadata": {},
     "output_type": "execute_result"
    }
   ],
   "source": [
    "df.set_index(df.columns[0])"
   ]
  },
  {
   "cell_type": "code",
   "execution_count": 17,
   "id": "32d03117",
   "metadata": {},
   "outputs": [
    {
     "data": {
      "text/plain": [
       "<AxesSubplot:>"
      ]
     },
     "execution_count": 17,
     "metadata": {},
     "output_type": "execute_result"
    },
    {
     "data": {
      "image/png": "[encoded data removed]",
      "text/plain": [
       "<Figure size 432x288 with 1 Axes>"
      ]
     },
     "metadata": {
      "needs_background": "light"
     },
     "output_type": "display_data"
    }
   ],
   "source": [
    "df['Vol(Million Tons)'].plot(kind='bar')"
   ]
  },
  {
   "cell_type": "code",
   "execution_count": 18,
   "id": "ca4be570",
   "metadata": {},
   "outputs": [
    {
     "data": {
      "text/plain": [
       "<AxesSubplot:ylabel='Food'>"
      ]
     },
     "execution_count": 18,
     "metadata": {},
     "output_type": "execute_result"
    },
    {
     "data": {
      "image/png": "[encoded data removed]",
      "text/plain": [
       "<Figure size 432x288 with 1 Axes>"
      ]
     },
     "metadata": {},
     "output_type": "display_data"
    }
   ],
   "source": [
    "df['Food'].value_counts().plot(kind='pie')"
   ]
  },
  {
   "cell_type": "code",
   "execution_count": 19,
   "id": "bd456388",
   "metadata": {},
   "outputs": [
    {
     "data": {
      "text/plain": [
       "<AxesSubplot:ylabel='Frequency'>"
      ]
     },
     "execution_count": 19,
     "metadata": {},
     "output_type": "execute_result"
    },
    {
     "data": {
      "image/png": "[encoded data removed]",
      "text/plain": [
       "<Figure size 432x288 with 1 Axes>"
      ]
     },
     "metadata": {
      "needs_background": "light"
     },
     "output_type": "display_data"
    }
   ],
   "source": [
    "df['Vol(Million Tons)'].plot(kind='hist')"
   ]
  },
  {
   "cell_type": "code",
   "execution_count": null,
   "id": "e5322bba",
   "metadata": {},
   "outputs": [],
   "source": []
  }
 ],
 "metadata": {
  "kernelspec": {
   "display_name": "Python 3",
   "language": "python",
   "name": "python3"
  },
  "language_info": {
   "codemirror_mode": {
    "name": "ipython",
    "version": 3
   },
   "file_extension": ".py",
   "mimetype": "text/x-python",
   "name": "python",
   "nbconvert_exporter": "python",
   "pygments_lexer": "ipython3",
   "version": "3.8.8"
  }
 },
 "nbformat": 4,
 "nbformat_minor": 5
}
